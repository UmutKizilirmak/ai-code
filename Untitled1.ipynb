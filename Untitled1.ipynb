{
 "cells": [
  {
   "cell_type": "code",
   "execution_count": 1,
   "id": "c07e92e1",
   "metadata": {},
   "outputs": [],
   "source": [
    "import numpy\n",
    "import matplotlib.pyplot as plt\n",
    "import yfinance as yf"
   ]
  },
  {
   "cell_type": "code",
   "execution_count": 2,
   "id": "242fc304",
   "metadata": {},
   "outputs": [
    {
     "name": "stdout",
     "output_type": "stream",
     "text": [
      "[*********************100%***********************]  1 of 1 completed\n"
     ]
    }
   ],
   "source": [
    "TSLA=yf.download('TSLA', start='2022-12-18', end='2023-01-06')"
   ]
  },
  {
   "cell_type": "code",
   "execution_count": 3,
   "id": "7925c400",
   "metadata": {},
   "outputs": [
    {
     "data": {
      "text/html": [
       "<div>\n",
       "<style scoped>\n",
       "    .dataframe tbody tr th:only-of-type {\n",
       "        vertical-align: middle;\n",
       "    }\n",
       "\n",
       "    .dataframe tbody tr th {\n",
       "        vertical-align: top;\n",
       "    }\n",
       "\n",
       "    .dataframe thead th {\n",
       "        text-align: right;\n",
       "    }\n",
       "</style>\n",
       "<table border=\"1\" class=\"dataframe\">\n",
       "  <thead>\n",
       "    <tr style=\"text-align: right;\">\n",
       "      <th></th>\n",
       "      <th>Open</th>\n",
       "      <th>High</th>\n",
       "      <th>Low</th>\n",
       "      <th>Close</th>\n",
       "      <th>Adj Close</th>\n",
       "      <th>Volume</th>\n",
       "    </tr>\n",
       "    <tr>\n",
       "      <th>Date</th>\n",
       "      <th></th>\n",
       "      <th></th>\n",
       "      <th></th>\n",
       "      <th></th>\n",
       "      <th></th>\n",
       "      <th></th>\n",
       "    </tr>\n",
       "  </thead>\n",
       "  <tbody>\n",
       "    <tr>\n",
       "      <th>2022-12-19</th>\n",
       "      <td>154.000000</td>\n",
       "      <td>155.250000</td>\n",
       "      <td>145.820007</td>\n",
       "      <td>149.869995</td>\n",
       "      <td>149.869995</td>\n",
       "      <td>139390600</td>\n",
       "    </tr>\n",
       "    <tr>\n",
       "      <th>2022-12-20</th>\n",
       "      <td>146.050003</td>\n",
       "      <td>148.470001</td>\n",
       "      <td>137.660004</td>\n",
       "      <td>137.800003</td>\n",
       "      <td>137.800003</td>\n",
       "      <td>159563300</td>\n",
       "    </tr>\n",
       "    <tr>\n",
       "      <th>2022-12-21</th>\n",
       "      <td>139.339996</td>\n",
       "      <td>141.259995</td>\n",
       "      <td>135.889999</td>\n",
       "      <td>137.570007</td>\n",
       "      <td>137.570007</td>\n",
       "      <td>145417400</td>\n",
       "    </tr>\n",
       "    <tr>\n",
       "      <th>2022-12-22</th>\n",
       "      <td>136.000000</td>\n",
       "      <td>136.630005</td>\n",
       "      <td>122.260002</td>\n",
       "      <td>125.349998</td>\n",
       "      <td>125.349998</td>\n",
       "      <td>210090300</td>\n",
       "    </tr>\n",
       "    <tr>\n",
       "      <th>2022-12-23</th>\n",
       "      <td>126.370003</td>\n",
       "      <td>128.619995</td>\n",
       "      <td>121.019997</td>\n",
       "      <td>123.150002</td>\n",
       "      <td>123.150002</td>\n",
       "      <td>166989700</td>\n",
       "    </tr>\n",
       "    <tr>\n",
       "      <th>2022-12-27</th>\n",
       "      <td>117.500000</td>\n",
       "      <td>119.669998</td>\n",
       "      <td>108.760002</td>\n",
       "      <td>109.099998</td>\n",
       "      <td>109.099998</td>\n",
       "      <td>208643400</td>\n",
       "    </tr>\n",
       "    <tr>\n",
       "      <th>2022-12-28</th>\n",
       "      <td>110.349998</td>\n",
       "      <td>116.269997</td>\n",
       "      <td>108.239998</td>\n",
       "      <td>112.709999</td>\n",
       "      <td>112.709999</td>\n",
       "      <td>221070500</td>\n",
       "    </tr>\n",
       "    <tr>\n",
       "      <th>2022-12-29</th>\n",
       "      <td>120.389999</td>\n",
       "      <td>123.570000</td>\n",
       "      <td>117.500000</td>\n",
       "      <td>121.820000</td>\n",
       "      <td>121.820000</td>\n",
       "      <td>221923300</td>\n",
       "    </tr>\n",
       "    <tr>\n",
       "      <th>2022-12-30</th>\n",
       "      <td>119.949997</td>\n",
       "      <td>124.480003</td>\n",
       "      <td>119.750000</td>\n",
       "      <td>123.180000</td>\n",
       "      <td>123.180000</td>\n",
       "      <td>157304500</td>\n",
       "    </tr>\n",
       "    <tr>\n",
       "      <th>2023-01-03</th>\n",
       "      <td>118.470001</td>\n",
       "      <td>118.800003</td>\n",
       "      <td>104.639999</td>\n",
       "      <td>108.099998</td>\n",
       "      <td>108.099998</td>\n",
       "      <td>231402800</td>\n",
       "    </tr>\n",
       "    <tr>\n",
       "      <th>2023-01-04</th>\n",
       "      <td>109.110001</td>\n",
       "      <td>114.589996</td>\n",
       "      <td>107.519997</td>\n",
       "      <td>113.639999</td>\n",
       "      <td>113.639999</td>\n",
       "      <td>180389000</td>\n",
       "    </tr>\n",
       "    <tr>\n",
       "      <th>2023-01-05</th>\n",
       "      <td>110.510002</td>\n",
       "      <td>111.750000</td>\n",
       "      <td>107.160004</td>\n",
       "      <td>110.339996</td>\n",
       "      <td>110.339996</td>\n",
       "      <td>157986300</td>\n",
       "    </tr>\n",
       "  </tbody>\n",
       "</table>\n",
       "</div>"
      ],
      "text/plain": [
       "                  Open        High         Low       Close   Adj Close  \\\n",
       "Date                                                                     \n",
       "2022-12-19  154.000000  155.250000  145.820007  149.869995  149.869995   \n",
       "2022-12-20  146.050003  148.470001  137.660004  137.800003  137.800003   \n",
       "2022-12-21  139.339996  141.259995  135.889999  137.570007  137.570007   \n",
       "2022-12-22  136.000000  136.630005  122.260002  125.349998  125.349998   \n",
       "2022-12-23  126.370003  128.619995  121.019997  123.150002  123.150002   \n",
       "2022-12-27  117.500000  119.669998  108.760002  109.099998  109.099998   \n",
       "2022-12-28  110.349998  116.269997  108.239998  112.709999  112.709999   \n",
       "2022-12-29  120.389999  123.570000  117.500000  121.820000  121.820000   \n",
       "2022-12-30  119.949997  124.480003  119.750000  123.180000  123.180000   \n",
       "2023-01-03  118.470001  118.800003  104.639999  108.099998  108.099998   \n",
       "2023-01-04  109.110001  114.589996  107.519997  113.639999  113.639999   \n",
       "2023-01-05  110.510002  111.750000  107.160004  110.339996  110.339996   \n",
       "\n",
       "               Volume  \n",
       "Date                   \n",
       "2022-12-19  139390600  \n",
       "2022-12-20  159563300  \n",
       "2022-12-21  145417400  \n",
       "2022-12-22  210090300  \n",
       "2022-12-23  166989700  \n",
       "2022-12-27  208643400  \n",
       "2022-12-28  221070500  \n",
       "2022-12-29  221923300  \n",
       "2022-12-30  157304500  \n",
       "2023-01-03  231402800  \n",
       "2023-01-04  180389000  \n",
       "2023-01-05  157986300  "
      ]
     },
     "execution_count": 3,
     "metadata": {},
     "output_type": "execute_result"
    }
   ],
   "source": [
    "TSLA"
   ]
  },
  {
   "cell_type": "code",
   "execution_count": 4,
   "id": "f76f4839",
   "metadata": {},
   "outputs": [
    {
     "data": {
      "text/plain": [
       "array([[1.54000000e+02, 1.55250000e+02, 1.45820007e+02, 1.49869995e+02,\n",
       "        1.49869995e+02, 1.39390600e+08],\n",
       "       [1.46050003e+02, 1.48470001e+02, 1.37660004e+02, 1.37800003e+02,\n",
       "        1.37800003e+02, 1.59563300e+08],\n",
       "       [1.39339996e+02, 1.41259995e+02, 1.35889999e+02, 1.37570007e+02,\n",
       "        1.37570007e+02, 1.45417400e+08],\n",
       "       [1.36000000e+02, 1.36630005e+02, 1.22260002e+02, 1.25349998e+02,\n",
       "        1.25349998e+02, 2.10090300e+08],\n",
       "       [1.26370003e+02, 1.28619995e+02, 1.21019997e+02, 1.23150002e+02,\n",
       "        1.23150002e+02, 1.66989700e+08],\n",
       "       [1.17500000e+02, 1.19669998e+02, 1.08760002e+02, 1.09099998e+02,\n",
       "        1.09099998e+02, 2.08643400e+08],\n",
       "       [1.10349998e+02, 1.16269997e+02, 1.08239998e+02, 1.12709999e+02,\n",
       "        1.12709999e+02, 2.21070500e+08],\n",
       "       [1.20389999e+02, 1.23570000e+02, 1.17500000e+02, 1.21820000e+02,\n",
       "        1.21820000e+02, 2.21923300e+08],\n",
       "       [1.19949997e+02, 1.24480003e+02, 1.19750000e+02, 1.23180000e+02,\n",
       "        1.23180000e+02, 1.57304500e+08],\n",
       "       [1.18470001e+02, 1.18800003e+02, 1.04639999e+02, 1.08099998e+02,\n",
       "        1.08099998e+02, 2.31402800e+08],\n",
       "       [1.09110001e+02, 1.14589996e+02, 1.07519997e+02, 1.13639999e+02,\n",
       "        1.13639999e+02, 1.80389000e+08],\n",
       "       [1.10510002e+02, 1.11750000e+02, 1.07160004e+02, 1.10339996e+02,\n",
       "        1.10339996e+02, 1.57986300e+08]])"
      ]
     },
     "execution_count": 4,
     "metadata": {},
     "output_type": "execute_result"
    }
   ],
   "source": [
    "ex=TSLA.values\n",
    "ex"
   ]
  },
  {
   "cell_type": "code",
   "execution_count": 5,
   "id": "30091888",
   "metadata": {},
   "outputs": [],
   "source": [
    "X=ex[:,0]\n",
    "Y=ex[:,1]\n"
   ]
  },
  {
   "cell_type": "code",
   "execution_count": 6,
   "id": "07f8b3fe",
   "metadata": {},
   "outputs": [
    {
     "data": {
      "text/plain": [
       "[<matplotlib.lines.Line2D at 0x7f8f180a8d90>,\n",
       " <matplotlib.lines.Line2D at 0x7f8f180a8e80>]"
      ]
     },
     "execution_count": 6,
     "metadata": {},
     "output_type": "execute_result"
    },
    {
     "data": {
      "image/png": "[encoded data removed]",
      "text/plain": [
       "<Figure size 432x288 with 1 Axes>"
      ]
     },
     "metadata": {
      "needs_background": "light"
     },
     "output_type": "display_data"
    }
   ],
   "source": [
    "plt.plot(X,Y,'rx','Markersize',10)"
   ]
  },
  {
   "cell_type": "code",
   "execution_count": 7,
   "id": "1448fb7b",
   "metadata": {},
   "outputs": [],
   "source": [
    "theta=numpy.zeros((2,1))\n",
    "\n",
    "new_x=numpy.delete(ex,numpy.s_[1:],1)\n",
    "X=numpy.insert(new_x,0,1,axis=1)"
   ]
  },
  {
   "cell_type": "code",
   "execution_count": 8,
   "id": "d28ce490",
   "metadata": {},
   "outputs": [],
   "source": [
    "learning_rate=0.1\n",
    "initial_m=0\n",
    "initial_b=0\n",
    "iteration=1500"
   ]
  },
  {
   "cell_type": "code",
   "execution_count": 9,
   "id": "dc58bdfb",
   "metadata": {},
   "outputs": [
    {
     "data": {
      "text/plain": [
       "1.7312746235517034e+16"
      ]
     },
     "execution_count": 9,
     "metadata": {},
     "output_type": "execute_result"
    }
   ],
   "source": [
    "#Cost Function\n",
    "m=len(ex)\n",
    "y=numpy.delete(ex,numpy.s_[:1],1)\n",
    "next=1/(2*m)*numpy.sum(numpy.power(numpy.subtract(numpy.dot(X,theta),y),2))\n",
    "next\n",
    "#J=1/(2*m)*sum(((X*theta)-y)**2)\n",
    "#J"
   ]
  },
  {
   "cell_type": "code",
   "execution_count": 10,
   "id": "83985d83",
   "metadata": {},
   "outputs": [
    {
     "data": {
      "text/plain": [
       "1.7312700792239764e+16"
      ]
     },
     "execution_count": 10,
     "metadata": {},
     "output_type": "execute_result"
    }
   ],
   "source": [
    "thetasecond=numpy.array([[-1],[2]])\n",
    "m=len(ex)\n",
    "y=numpy.delete(ex,numpy.s_[:1],1)\n",
    "nextout=1/(2*m)*numpy.sum(numpy.power(numpy.subtract(numpy.dot(X,thetasecond),y),2))\n",
    "nextout"
   ]
  },
  {
   "cell_type": "code",
   "execution_count": 11,
   "id": "6ddc980c",
   "metadata": {},
   "outputs": [
    {
     "ename": "ValueError",
     "evalue": "could not broadcast input array from shape (5,2) into shape (2,)",
     "output_type": "error",
     "traceback": [
      "\u001b[0;31m---------------------------------------------------------------------------\u001b[0m",
      "\u001b[0;31mValueError\u001b[0m                                Traceback (most recent call last)",
      "\u001b[0;32m/var/folders/4m/090kl9xd5hb4c78vww6mv6fm0000gn/T/ipykernel_8382/1377027142.py\u001b[0m in \u001b[0;36m<module>\u001b[0;34m\u001b[0m\n\u001b[1;32m      6\u001b[0m     \u001b[0mprediction\u001b[0m\u001b[0;34m=\u001b[0m\u001b[0mnumpy\u001b[0m\u001b[0;34m.\u001b[0m\u001b[0mdot\u001b[0m\u001b[0;34m(\u001b[0m\u001b[0mX\u001b[0m\u001b[0;34m,\u001b[0m\u001b[0mtheta_second\u001b[0m\u001b[0;34m)\u001b[0m\u001b[0;34m\u001b[0m\u001b[0;34m\u001b[0m\u001b[0m\n\u001b[1;32m      7\u001b[0m     \u001b[0mtheta_second\u001b[0m\u001b[0;34m=\u001b[0m\u001b[0mtheta_second\u001b[0m\u001b[0;34m-\u001b[0m\u001b[0;34m(\u001b[0m\u001b[0;36m1\u001b[0m\u001b[0;34m/\u001b[0m\u001b[0mm\u001b[0m\u001b[0;34m)\u001b[0m\u001b[0;34m*\u001b[0m\u001b[0mlearning_rate\u001b[0m\u001b[0;34m*\u001b[0m\u001b[0;34m(\u001b[0m\u001b[0mX\u001b[0m\u001b[0;34m.\u001b[0m\u001b[0mT\u001b[0m\u001b[0;34m.\u001b[0m\u001b[0mdot\u001b[0m\u001b[0;34m(\u001b[0m\u001b[0;34m(\u001b[0m\u001b[0mprediction\u001b[0m\u001b[0;34m-\u001b[0m\u001b[0my\u001b[0m\u001b[0;34m)\u001b[0m\u001b[0;34m)\u001b[0m\u001b[0;34m)\u001b[0m\u001b[0;34m\u001b[0m\u001b[0;34m\u001b[0m\u001b[0m\n\u001b[0;32m----> 8\u001b[0;31m     \u001b[0mtheta_history\u001b[0m\u001b[0;34m[\u001b[0m\u001b[0miter\u001b[0m\u001b[0;34m,\u001b[0m\u001b[0;34m:\u001b[0m\u001b[0;34m]\u001b[0m\u001b[0;34m=\u001b[0m\u001b[0mtheta_second\u001b[0m\u001b[0;34m.\u001b[0m\u001b[0mT\u001b[0m\u001b[0;34m\u001b[0m\u001b[0;34m\u001b[0m\u001b[0m\n\u001b[0m\u001b[1;32m      9\u001b[0m     \u001b[0mtempcost\u001b[0m\u001b[0;34m=\u001b[0m\u001b[0;36m1\u001b[0m\u001b[0;34m/\u001b[0m\u001b[0;34m(\u001b[0m\u001b[0;36m2\u001b[0m\u001b[0;34m*\u001b[0m\u001b[0mm\u001b[0m\u001b[0;34m)\u001b[0m\u001b[0;34m*\u001b[0m\u001b[0mnumpy\u001b[0m\u001b[0;34m.\u001b[0m\u001b[0msum\u001b[0m\u001b[0;34m(\u001b[0m\u001b[0mnumpy\u001b[0m\u001b[0;34m.\u001b[0m\u001b[0mpower\u001b[0m\u001b[0;34m(\u001b[0m\u001b[0mnumpy\u001b[0m\u001b[0;34m.\u001b[0m\u001b[0msubtract\u001b[0m\u001b[0;34m(\u001b[0m\u001b[0mnumpy\u001b[0m\u001b[0;34m.\u001b[0m\u001b[0mdot\u001b[0m\u001b[0;34m(\u001b[0m\u001b[0mX\u001b[0m\u001b[0;34m,\u001b[0m\u001b[0mtheta_second\u001b[0m\u001b[0;34m)\u001b[0m\u001b[0;34m,\u001b[0m\u001b[0my\u001b[0m\u001b[0;34m)\u001b[0m\u001b[0;34m,\u001b[0m\u001b[0;36m2\u001b[0m\u001b[0;34m)\u001b[0m\u001b[0;34m)\u001b[0m\u001b[0;34m\u001b[0m\u001b[0;34m\u001b[0m\u001b[0m\n\u001b[1;32m     10\u001b[0m     \u001b[0mcost_history\u001b[0m\u001b[0;34m[\u001b[0m\u001b[0miter\u001b[0m\u001b[0;34m]\u001b[0m\u001b[0;34m=\u001b[0m\u001b[0mtempcost\u001b[0m\u001b[0;34m\u001b[0m\u001b[0;34m\u001b[0m\u001b[0m\n",
      "\u001b[0;31mValueError\u001b[0m: could not broadcast input array from shape (5,2) into shape (2,)"
     ]
    }
   ],
   "source": [
    "#Gradient descent\n",
    "cost_history=numpy.zeros(iteration)\n",
    "theta_history=numpy.zeros((iteration,2))\n",
    "theta_second=numpy.zeros((2,1))\n",
    "for iter in range(iteration):\n",
    "    prediction=numpy.dot(X,theta_second)\n",
    "    theta_second=theta_second-(1/m)*learning_rate*(X.T.dot((prediction-y)))\n",
    "    theta_history[iter,:]=theta_second.T\n",
    "    tempcost=1/(2*m)*numpy.sum(numpy.power(numpy.subtract(numpy.dot(X,theta_second),y),2))\n",
    "    cost_history[iter]=tempcost\n",
    "    \n",
    "    print(theta_history)\n",
    "    "
   ]
  },
  {
   "cell_type": "code",
   "execution_count": 12,
   "id": "f1e366cd",
   "metadata": {},
   "outputs": [
    {
     "ename": "SyntaxError",
     "evalue": "invalid syntax (538996744.py, line 1)",
     "output_type": "error",
     "traceback": [
      "\u001b[0;36m  File \u001b[0;32m\"/var/folders/4m/090kl9xd5hb4c78vww6mv6fm0000gn/T/ipykernel_8382/538996744.py\"\u001b[0;36m, line \u001b[0;32m1\u001b[0m\n\u001b[0;31m    plt.plot(numpy.arange(iteration,cost_history,'r'5)\u001b[0m\n\u001b[0m                                                    ^\u001b[0m\n\u001b[0;31mSyntaxError\u001b[0m\u001b[0;31m:\u001b[0m invalid syntax\n"
     ]
    }
   ],
   "source": [
    "plt.plot(numpy.arange(iteration,cost_history,'r'5)\n",
    "plt.xlabel('iterations')\n",
    "plt.ylabel('J(theta)')"
   ]
  },
  {
   "cell_type": "code",
   "execution_count": null,
   "id": "ca30257e",
   "metadata": {},
   "outputs": [],
   "source": []
  }
 ],
 "metadata": {
  "kernelspec": {
   "display_name": "Python 3 (ipykernel)",
   "language": "python",
   "name": "python3"
  },
  "language_info": {
   "codemirror_mode": {
    "name": "ipython",
    "version": 3
   },
   "file_extension": ".py",
   "mimetype": "text/x-python",
   "name": "python",
   "nbconvert_exporter": "python",
   "pygments_lexer": "ipython3",
   "version": "3.9.7"
  }
 },
 "nbformat": 4,
 "nbformat_minor": 5
}
