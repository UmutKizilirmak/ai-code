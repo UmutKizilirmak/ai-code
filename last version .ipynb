{
 "cells": [
  {
   "cell_type": "code",
   "execution_count": 1,
   "id": "ddf31bbf",
   "metadata": {},
   "outputs": [],
   "source": [
    "import pandas as pd\n",
    "import numpy as np\n",
    "import matplotlib.pyplot as plt\n",
    "import seaborn as seabornInstance\n",
    "from sklearn.model_selection import train_test_split\n",
    "from sklearn.linear_model import LinearRegression\n",
    "%matplotlib inline"
   ]
  },
  {
   "cell_type": "code",
   "execution_count": 2,
   "id": "d4c2fa30",
   "metadata": {},
   "outputs": [],
   "source": [
    "df = pd.read_csv('/Users/umutkizilirmak/Desktop/TSLA.csv')\n",
    "df.dropna(inplace = True)"
   ]
  },
  {
   "cell_type": "code",
   "execution_count": 3,
   "id": "93717c04",
   "metadata": {},
   "outputs": [
    {
     "data": {
      "text/plain": [
       "(1259, 2)"
      ]
     },
     "execution_count": 3,
     "metadata": {},
     "output_type": "execute_result"
    }
   ],
   "source": [
    "df.shape"
   ]
  },
  {
   "cell_type": "code",
   "execution_count": 4,
   "id": "a9e264fd",
   "metadata": {},
   "outputs": [
    {
     "data": {
      "text/html": [
       "<div>\n",
       "<style scoped>\n",
       "    .dataframe tbody tr th:only-of-type {\n",
       "        vertical-align: middle;\n",
       "    }\n",
       "\n",
       "    .dataframe tbody tr th {\n",
       "        vertical-align: top;\n",
       "    }\n",
       "\n",
       "    .dataframe thead th {\n",
       "        text-align: right;\n",
       "    }\n",
       "</style>\n",
       "<table border=\"1\" class=\"dataframe\">\n",
       "  <thead>\n",
       "    <tr style=\"text-align: right;\">\n",
       "      <th></th>\n",
       "      <th>Open</th>\n",
       "      <th>Close</th>\n",
       "    </tr>\n",
       "  </thead>\n",
       "  <tbody>\n",
       "    <tr>\n",
       "      <th>count</th>\n",
       "      <td>1259.000000</td>\n",
       "      <td>1259.000000</td>\n",
       "    </tr>\n",
       "    <tr>\n",
       "      <th>mean</th>\n",
       "      <td>132.197978</td>\n",
       "      <td>132.071343</td>\n",
       "    </tr>\n",
       "    <tr>\n",
       "      <th>std</th>\n",
       "      <td>117.865590</td>\n",
       "      <td>117.675990</td>\n",
       "    </tr>\n",
       "    <tr>\n",
       "      <th>min</th>\n",
       "      <td>12.073333</td>\n",
       "      <td>11.931333</td>\n",
       "    </tr>\n",
       "    <tr>\n",
       "      <th>25%</th>\n",
       "      <td>21.076000</td>\n",
       "      <td>21.091666</td>\n",
       "    </tr>\n",
       "    <tr>\n",
       "      <th>50%</th>\n",
       "      <td>93.132668</td>\n",
       "      <td>92.657333</td>\n",
       "    </tr>\n",
       "    <tr>\n",
       "      <th>75%</th>\n",
       "      <td>235.556671</td>\n",
       "      <td>236.125000</td>\n",
       "    </tr>\n",
       "    <tr>\n",
       "      <th>max</th>\n",
       "      <td>411.470001</td>\n",
       "      <td>409.970001</td>\n",
       "    </tr>\n",
       "  </tbody>\n",
       "</table>\n",
       "</div>"
      ],
      "text/plain": [
       "              Open        Close\n",
       "count  1259.000000  1259.000000\n",
       "mean    132.197978   132.071343\n",
       "std     117.865590   117.675990\n",
       "min      12.073333    11.931333\n",
       "25%      21.076000    21.091666\n",
       "50%      93.132668    92.657333\n",
       "75%     235.556671   236.125000\n",
       "max     411.470001   409.970001"
      ]
     },
     "execution_count": 4,
     "metadata": {},
     "output_type": "execute_result"
    }
   ],
   "source": [
    "df.describe()"
   ]
  },
  {
   "cell_type": "code",
   "execution_count": 13,
   "id": "2cc69e2d",
   "metadata": {},
   "outputs": [],
   "source": [
    "X = df['Open'].values.reshape(-1,1).astype('float32')\n",
    "y = df['Close'].values.reshape(-1,1).astype('float32')"
   ]
  },
  {
   "cell_type": "code",
   "execution_count": 16,
   "id": "064e55ea",
   "metadata": {},
   "outputs": [
    {
     "data": {
      "image/png": "[encoded data removed]",
      "text/plain": [
       "<Figure size 864x432 with 1 Axes>"
      ]
     },
     "metadata": {
      "needs_background": "light"
     },
     "output_type": "display_data"
    }
   ],
   "source": [
    "fig,(ax1) = plt.subplots(1, figsize = (12,6))\n",
    "ax1.scatter (X, y, s = 8)\n",
    "plt.title ('Open vs Close')\n",
    "plt.xlabel('Open')\n",
    "plt.ylabel('Close')\n",
    "plt.show()"
   ]
  },
  {
   "cell_type": "code",
   "execution_count": 18,
   "id": "7ca776b4",
   "metadata": {},
   "outputs": [],
   "source": [
    "X_train, X_test, y_train, y_test = train_test_split(X, y, test_size=0.2, random_state=0)"
   ]
  },
  {
   "cell_type": "code",
   "execution_count": 19,
   "id": "701e0a6f",
   "metadata": {},
   "outputs": [
    {
     "name": "stdout",
     "output_type": "stream",
     "text": [
      "[0.24064636]\n",
      "[[0.9974673]]\n"
     ]
    }
   ],
   "source": [
    "h = LinearRegression()\n",
    "h.fit(X_train,y_train)\n",
    "print(h.intercept_) # to retrieve theta_0\n",
    "print(h.coef_) # to retrieve theta_1"
   ]
  },
  {
   "cell_type": "code",
   "execution_count": 21,
   "id": "f66883a6",
   "metadata": {},
   "outputs": [
    {
     "data": {
      "text/html": [
       "<div>\n",
       "<style scoped>\n",
       "    .dataframe tbody tr th:only-of-type {\n",
       "        vertical-align: middle;\n",
       "    }\n",
       "\n",
       "    .dataframe tbody tr th {\n",
       "        vertical-align: top;\n",
       "    }\n",
       "\n",
       "    .dataframe thead th {\n",
       "        text-align: right;\n",
       "    }\n",
       "</style>\n",
       "<table border=\"1\" class=\"dataframe\">\n",
       "  <thead>\n",
       "    <tr style=\"text-align: right;\">\n",
       "      <th></th>\n",
       "      <th>Actual</th>\n",
       "      <th>Predicted</th>\n",
       "    </tr>\n",
       "  </thead>\n",
       "  <tbody>\n",
       "    <tr>\n",
       "      <th>0</th>\n",
       "      <td>22.670668</td>\n",
       "      <td>22.686319</td>\n",
       "    </tr>\n",
       "    <tr>\n",
       "      <th>1</th>\n",
       "      <td>28.350000</td>\n",
       "      <td>28.060675</td>\n",
       "    </tr>\n",
       "    <tr>\n",
       "      <th>2</th>\n",
       "      <td>20.102667</td>\n",
       "      <td>20.938093</td>\n",
       "    </tr>\n",
       "    <tr>\n",
       "      <th>3</th>\n",
       "      <td>350.583344</td>\n",
       "      <td>347.425781</td>\n",
       "    </tr>\n",
       "    <tr>\n",
       "      <th>4</th>\n",
       "      <td>19.653334</td>\n",
       "      <td>20.411430</td>\n",
       "    </tr>\n",
       "    <tr>\n",
       "      <th>...</th>\n",
       "      <td>...</td>\n",
       "      <td>...</td>\n",
       "    </tr>\n",
       "    <tr>\n",
       "      <th>247</th>\n",
       "      <td>240.066666</td>\n",
       "      <td>239.632797</td>\n",
       "    </tr>\n",
       "    <tr>\n",
       "      <th>248</th>\n",
       "      <td>23.077999</td>\n",
       "      <td>22.552660</td>\n",
       "    </tr>\n",
       "    <tr>\n",
       "      <th>249</th>\n",
       "      <td>14.810000</td>\n",
       "      <td>15.056360</td>\n",
       "    </tr>\n",
       "    <tr>\n",
       "      <th>250</th>\n",
       "      <td>20.062000</td>\n",
       "      <td>20.239201</td>\n",
       "    </tr>\n",
       "    <tr>\n",
       "      <th>251</th>\n",
       "      <td>220.589996</td>\n",
       "      <td>214.027817</td>\n",
       "    </tr>\n",
       "  </tbody>\n",
       "</table>\n",
       "<p>252 rows × 2 columns</p>\n",
       "</div>"
      ],
      "text/plain": [
       "         Actual   Predicted\n",
       "0     22.670668   22.686319\n",
       "1     28.350000   28.060675\n",
       "2     20.102667   20.938093\n",
       "3    350.583344  347.425781\n",
       "4     19.653334   20.411430\n",
       "..          ...         ...\n",
       "247  240.066666  239.632797\n",
       "248   23.077999   22.552660\n",
       "249   14.810000   15.056360\n",
       "250   20.062000   20.239201\n",
       "251  220.589996  214.027817\n",
       "\n",
       "[252 rows x 2 columns]"
      ]
     },
     "execution_count": 21,
     "metadata": {},
     "output_type": "execute_result"
    }
   ],
   "source": [
    "y_pred = h.predict(X_test)\n",
    "compare = pd.DataFrame({'Actual': y_test.flatten(), 'Predicted': y_pred.flatten()})\n",
    "compare"
   ]
  },
  {
   "cell_type": "code",
   "execution_count": 24,
   "id": "c52f3570",
   "metadata": {},
   "outputs": [
    {
     "data": {
      "image/png": "[encoded data removed]",
      "text/plain": [
       "<Figure size 864x432 with 1 Axes>"
      ]
     },
     "metadata": {
      "needs_background": "light"
     },
     "output_type": "display_data"
    }
   ],
   "source": [
    "fig,(ax1) = plt.subplots(1, figsize = (12,6))\n",
    "ax1.scatter (X_test, y_test, s = 8)\n",
    "plt.plot(X_test,y_pred, color = 'black', linewidth = 2)\n",
    "plt.show()"
   ]
  },
  {
   "cell_type": "code",
   "execution_count": 29,
   "id": "c7d1b7e6",
   "metadata": {},
   "outputs": [],
   "source": [
    "#pick some random value to start with\n",
    "theta_0 = np.random.random()\n",
    "theta_1 = np.random.random()\n",
    "def hypothesis (theta_0,theta_1,X):\n",
    "    return theta_1*X + theta_0\n",
    "def cost_function (X,y,theta_0,theta_1):\n",
    "    m = len(X)\n",
    "    summation = 0.0\n",
    "    for i in range (m):\n",
    "        summation += ((theta_1 * X[i] + theta_0) - y[i])**2\n",
    "    return summation /(2*m)\n",
    "def gradient_descent(X,y,theta_0,theta_1,learning_rate):\n",
    "    t0_deriv = 0\n",
    "    t1_deriv = 0\n",
    "    m = len(X)\n",
    "    \n",
    "    for i in range (m):\n",
    "        t0_deriv += (theta_1 * X[i] + theta_0) - y[i]\n",
    "        t1_deriv += ((theta_1 * X[i] + theta_0) - y[i])* X[i]\n",
    "    theta_0 -= (1/m) * learning_rate * t0_deriv\n",
    "    theta_1 -= (1/m) * learning_rate * t1_deriv\n",
    "    \n",
    "    return theta_0,theta_1\n",
    "def training (X, y, theta_0, theta_1, learning_rate, iters):\n",
    "    cost_history = [0]\n",
    "    t0_history = [0]\n",
    "    t1_history = [0]\n",
    "    \n",
    "    for i in range(iters):\n",
    "        theta_0,theta_1 = gradient_descent(X, y, theta_0, theta_1, learning_rate)\n",
    "        t0_history.append(theta_0)\n",
    "        t1_history.append(theta_1)\n",
    "        cost = cost_function(X, y, theta_0, theta_1)\n",
    "        cost_history.append(cost)\n",
    "        if i%10 == 0:\n",
    "              print (\"iter={}, theta_0={}, theta_1={}, cost= {}\".format(i, theta_0, theta_1, cost))\n",
    "    return t0_history, t1_history, cost_history"
   ]
  },
  {
   "cell_type": "code",
   "execution_count": 30,
   "id": "bd5525c1",
   "metadata": {},
   "outputs": [
    {
     "name": "stdout",
     "output_type": "stream",
     "text": [
      "iter=0, theta_0=[0.93618464], theta_1=[120.50425], cost= [2.2393451e+08]\n",
      "iter=10, theta_0=[4.4865736e+24], theta_1=[1.0642079e+27], cost= [inf]\n",
      "iter=20, theta_0=[nan], theta_1=[nan], cost= [nan]\n"
     ]
    },
    {
     "name": "stderr",
     "output_type": "stream",
     "text": [
      "/var/folders/4m/090kl9xd5hb4c78vww6mv6fm0000gn/T/ipykernel_10879/466692292.py:10: RuntimeWarning: overflow encountered in add\n",
      "  summation += ((theta_1 * X[i] + theta_0) - y[i])**2\n",
      "/var/folders/4m/090kl9xd5hb4c78vww6mv6fm0000gn/T/ipykernel_10879/466692292.py:10: RuntimeWarning: overflow encountered in square\n",
      "  summation += ((theta_1 * X[i] + theta_0) - y[i])**2\n",
      "/var/folders/4m/090kl9xd5hb4c78vww6mv6fm0000gn/T/ipykernel_10879/466692292.py:19: RuntimeWarning: overflow encountered in add\n",
      "  t1_deriv += ((theta_1 * X[i] + theta_0) - y[i])* X[i]\n",
      "/var/folders/4m/090kl9xd5hb4c78vww6mv6fm0000gn/T/ipykernel_10879/466692292.py:21: RuntimeWarning: invalid value encountered in subtract\n",
      "  theta_1 -= (1/m) * learning_rate * t1_deriv\n"
     ]
    },
    {
     "name": "stdout",
     "output_type": "stream",
     "text": [
      "iter=30, theta_0=[nan], theta_1=[nan], cost= [nan]\n",
      "iter=40, theta_0=[nan], theta_1=[nan], cost= [nan]\n",
      "iter=50, theta_0=[nan], theta_1=[nan], cost= [nan]\n",
      "iter=60, theta_0=[nan], theta_1=[nan], cost= [nan]\n",
      "iter=70, theta_0=[nan], theta_1=[nan], cost= [nan]\n",
      "iter=80, theta_0=[nan], theta_1=[nan], cost= [nan]\n",
      "iter=90, theta_0=[nan], theta_1=[nan], cost= [nan]\n",
      "iter=100, theta_0=[nan], theta_1=[nan], cost= [nan]\n",
      "iter=110, theta_0=[nan], theta_1=[nan], cost= [nan]\n",
      "iter=120, theta_0=[nan], theta_1=[nan], cost= [nan]\n",
      "iter=130, theta_0=[nan], theta_1=[nan], cost= [nan]\n",
      "iter=140, theta_0=[nan], theta_1=[nan], cost= [nan]\n",
      "iter=150, theta_0=[nan], theta_1=[nan], cost= [nan]\n",
      "iter=160, theta_0=[nan], theta_1=[nan], cost= [nan]\n",
      "iter=170, theta_0=[nan], theta_1=[nan], cost= [nan]\n",
      "iter=180, theta_0=[nan], theta_1=[nan], cost= [nan]\n",
      "iter=190, theta_0=[nan], theta_1=[nan], cost= [nan]\n",
      "iter=200, theta_0=[nan], theta_1=[nan], cost= [nan]\n",
      "iter=210, theta_0=[nan], theta_1=[nan], cost= [nan]\n",
      "iter=220, theta_0=[nan], theta_1=[nan], cost= [nan]\n",
      "iter=230, theta_0=[nan], theta_1=[nan], cost= [nan]\n",
      "iter=240, theta_0=[nan], theta_1=[nan], cost= [nan]\n",
      "iter=250, theta_0=[nan], theta_1=[nan], cost= [nan]\n",
      "iter=260, theta_0=[nan], theta_1=[nan], cost= [nan]\n",
      "iter=270, theta_0=[nan], theta_1=[nan], cost= [nan]\n",
      "iter=280, theta_0=[nan], theta_1=[nan], cost= [nan]\n",
      "iter=290, theta_0=[nan], theta_1=[nan], cost= [nan]\n",
      "iter=300, theta_0=[nan], theta_1=[nan], cost= [nan]\n",
      "iter=310, theta_0=[nan], theta_1=[nan], cost= [nan]\n",
      "iter=320, theta_0=[nan], theta_1=[nan], cost= [nan]\n",
      "iter=330, theta_0=[nan], theta_1=[nan], cost= [nan]\n",
      "iter=340, theta_0=[nan], theta_1=[nan], cost= [nan]\n",
      "iter=350, theta_0=[nan], theta_1=[nan], cost= [nan]\n",
      "iter=360, theta_0=[nan], theta_1=[nan], cost= [nan]\n",
      "iter=370, theta_0=[nan], theta_1=[nan], cost= [nan]\n",
      "iter=380, theta_0=[nan], theta_1=[nan], cost= [nan]\n",
      "iter=390, theta_0=[nan], theta_1=[nan], cost= [nan]\n",
      "iter=400, theta_0=[nan], theta_1=[nan], cost= [nan]\n",
      "iter=410, theta_0=[nan], theta_1=[nan], cost= [nan]\n",
      "iter=420, theta_0=[nan], theta_1=[nan], cost= [nan]\n",
      "iter=430, theta_0=[nan], theta_1=[nan], cost= [nan]\n",
      "iter=440, theta_0=[nan], theta_1=[nan], cost= [nan]\n",
      "iter=450, theta_0=[nan], theta_1=[nan], cost= [nan]\n",
      "iter=460, theta_0=[nan], theta_1=[nan], cost= [nan]\n",
      "iter=470, theta_0=[nan], theta_1=[nan], cost= [nan]\n",
      "iter=480, theta_0=[nan], theta_1=[nan], cost= [nan]\n",
      "iter=490, theta_0=[nan], theta_1=[nan], cost= [nan]\n",
      "iter=500, theta_0=[nan], theta_1=[nan], cost= [nan]\n",
      "iter=510, theta_0=[nan], theta_1=[nan], cost= [nan]\n",
      "iter=520, theta_0=[nan], theta_1=[nan], cost= [nan]\n",
      "iter=530, theta_0=[nan], theta_1=[nan], cost= [nan]\n",
      "iter=540, theta_0=[nan], theta_1=[nan], cost= [nan]\n",
      "iter=550, theta_0=[nan], theta_1=[nan], cost= [nan]\n",
      "iter=560, theta_0=[nan], theta_1=[nan], cost= [nan]\n",
      "iter=570, theta_0=[nan], theta_1=[nan], cost= [nan]\n",
      "iter=580, theta_0=[nan], theta_1=[nan], cost= [nan]\n",
      "iter=590, theta_0=[nan], theta_1=[nan], cost= [nan]\n",
      "iter=600, theta_0=[nan], theta_1=[nan], cost= [nan]\n",
      "iter=610, theta_0=[nan], theta_1=[nan], cost= [nan]\n",
      "iter=620, theta_0=[nan], theta_1=[nan], cost= [nan]\n",
      "iter=630, theta_0=[nan], theta_1=[nan], cost= [nan]\n",
      "iter=640, theta_0=[nan], theta_1=[nan], cost= [nan]\n",
      "iter=650, theta_0=[nan], theta_1=[nan], cost= [nan]\n",
      "iter=660, theta_0=[nan], theta_1=[nan], cost= [nan]\n",
      "iter=670, theta_0=[nan], theta_1=[nan], cost= [nan]\n",
      "iter=680, theta_0=[nan], theta_1=[nan], cost= [nan]\n",
      "iter=690, theta_0=[nan], theta_1=[nan], cost= [nan]\n",
      "iter=700, theta_0=[nan], theta_1=[nan], cost= [nan]\n",
      "iter=710, theta_0=[nan], theta_1=[nan], cost= [nan]\n",
      "iter=720, theta_0=[nan], theta_1=[nan], cost= [nan]\n",
      "iter=730, theta_0=[nan], theta_1=[nan], cost= [nan]\n",
      "iter=740, theta_0=[nan], theta_1=[nan], cost= [nan]\n",
      "iter=750, theta_0=[nan], theta_1=[nan], cost= [nan]\n",
      "iter=760, theta_0=[nan], theta_1=[nan], cost= [nan]\n",
      "iter=770, theta_0=[nan], theta_1=[nan], cost= [nan]\n",
      "iter=780, theta_0=[nan], theta_1=[nan], cost= [nan]\n",
      "iter=790, theta_0=[nan], theta_1=[nan], cost= [nan]\n",
      "iter=800, theta_0=[nan], theta_1=[nan], cost= [nan]\n",
      "iter=810, theta_0=[nan], theta_1=[nan], cost= [nan]\n",
      "iter=820, theta_0=[nan], theta_1=[nan], cost= [nan]\n",
      "iter=830, theta_0=[nan], theta_1=[nan], cost= [nan]\n",
      "iter=840, theta_0=[nan], theta_1=[nan], cost= [nan]\n",
      "iter=850, theta_0=[nan], theta_1=[nan], cost= [nan]\n",
      "iter=860, theta_0=[nan], theta_1=[nan], cost= [nan]\n",
      "iter=870, theta_0=[nan], theta_1=[nan], cost= [nan]\n",
      "iter=880, theta_0=[nan], theta_1=[nan], cost= [nan]\n",
      "iter=890, theta_0=[nan], theta_1=[nan], cost= [nan]\n",
      "iter=900, theta_0=[nan], theta_1=[nan], cost= [nan]\n",
      "iter=910, theta_0=[nan], theta_1=[nan], cost= [nan]\n",
      "iter=920, theta_0=[nan], theta_1=[nan], cost= [nan]\n",
      "iter=930, theta_0=[nan], theta_1=[nan], cost= [nan]\n",
      "iter=940, theta_0=[nan], theta_1=[nan], cost= [nan]\n",
      "iter=950, theta_0=[nan], theta_1=[nan], cost= [nan]\n",
      "iter=960, theta_0=[nan], theta_1=[nan], cost= [nan]\n",
      "iter=970, theta_0=[nan], theta_1=[nan], cost= [nan]\n",
      "iter=980, theta_0=[nan], theta_1=[nan], cost= [nan]\n",
      "iter=990, theta_0=[nan], theta_1=[nan], cost= [nan]\n",
      "iter=1000, theta_0=[nan], theta_1=[nan], cost= [nan]\n",
      "iter=1010, theta_0=[nan], theta_1=[nan], cost= [nan]\n",
      "iter=1020, theta_0=[nan], theta_1=[nan], cost= [nan]\n",
      "iter=1030, theta_0=[nan], theta_1=[nan], cost= [nan]\n",
      "iter=1040, theta_0=[nan], theta_1=[nan], cost= [nan]\n",
      "iter=1050, theta_0=[nan], theta_1=[nan], cost= [nan]\n",
      "iter=1060, theta_0=[nan], theta_1=[nan], cost= [nan]\n",
      "iter=1070, theta_0=[nan], theta_1=[nan], cost= [nan]\n",
      "iter=1080, theta_0=[nan], theta_1=[nan], cost= [nan]\n",
      "iter=1090, theta_0=[nan], theta_1=[nan], cost= [nan]\n",
      "iter=1100, theta_0=[nan], theta_1=[nan], cost= [nan]\n",
      "iter=1110, theta_0=[nan], theta_1=[nan], cost= [nan]\n",
      "iter=1120, theta_0=[nan], theta_1=[nan], cost= [nan]\n",
      "iter=1130, theta_0=[nan], theta_1=[nan], cost= [nan]\n",
      "iter=1140, theta_0=[nan], theta_1=[nan], cost= [nan]\n",
      "iter=1150, theta_0=[nan], theta_1=[nan], cost= [nan]\n",
      "iter=1160, theta_0=[nan], theta_1=[nan], cost= [nan]\n",
      "iter=1170, theta_0=[nan], theta_1=[nan], cost= [nan]\n",
      "iter=1180, theta_0=[nan], theta_1=[nan], cost= [nan]\n",
      "iter=1190, theta_0=[nan], theta_1=[nan], cost= [nan]\n",
      "iter=1200, theta_0=[nan], theta_1=[nan], cost= [nan]\n",
      "iter=1210, theta_0=[nan], theta_1=[nan], cost= [nan]\n",
      "iter=1220, theta_0=[nan], theta_1=[nan], cost= [nan]\n",
      "iter=1230, theta_0=[nan], theta_1=[nan], cost= [nan]\n",
      "iter=1240, theta_0=[nan], theta_1=[nan], cost= [nan]\n",
      "iter=1250, theta_0=[nan], theta_1=[nan], cost= [nan]\n",
      "iter=1260, theta_0=[nan], theta_1=[nan], cost= [nan]\n",
      "iter=1270, theta_0=[nan], theta_1=[nan], cost= [nan]\n",
      "iter=1280, theta_0=[nan], theta_1=[nan], cost= [nan]\n",
      "iter=1290, theta_0=[nan], theta_1=[nan], cost= [nan]\n",
      "iter=1300, theta_0=[nan], theta_1=[nan], cost= [nan]\n",
      "iter=1310, theta_0=[nan], theta_1=[nan], cost= [nan]\n",
      "iter=1320, theta_0=[nan], theta_1=[nan], cost= [nan]\n",
      "iter=1330, theta_0=[nan], theta_1=[nan], cost= [nan]\n",
      "iter=1340, theta_0=[nan], theta_1=[nan], cost= [nan]\n",
      "iter=1350, theta_0=[nan], theta_1=[nan], cost= [nan]\n",
      "iter=1360, theta_0=[nan], theta_1=[nan], cost= [nan]\n",
      "iter=1370, theta_0=[nan], theta_1=[nan], cost= [nan]\n",
      "iter=1380, theta_0=[nan], theta_1=[nan], cost= [nan]\n",
      "iter=1390, theta_0=[nan], theta_1=[nan], cost= [nan]\n",
      "iter=1400, theta_0=[nan], theta_1=[nan], cost= [nan]\n",
      "iter=1410, theta_0=[nan], theta_1=[nan], cost= [nan]\n",
      "iter=1420, theta_0=[nan], theta_1=[nan], cost= [nan]\n",
      "iter=1430, theta_0=[nan], theta_1=[nan], cost= [nan]\n",
      "iter=1440, theta_0=[nan], theta_1=[nan], cost= [nan]\n",
      "iter=1450, theta_0=[nan], theta_1=[nan], cost= [nan]\n",
      "iter=1460, theta_0=[nan], theta_1=[nan], cost= [nan]\n",
      "iter=1470, theta_0=[nan], theta_1=[nan], cost= [nan]\n",
      "iter=1480, theta_0=[nan], theta_1=[nan], cost= [nan]\n",
      "iter=1490, theta_0=[nan], theta_1=[nan], cost= [nan]\n",
      "iter=1500, theta_0=[nan], theta_1=[nan], cost= [nan]\n",
      "iter=1510, theta_0=[nan], theta_1=[nan], cost= [nan]\n",
      "iter=1520, theta_0=[nan], theta_1=[nan], cost= [nan]\n",
      "iter=1530, theta_0=[nan], theta_1=[nan], cost= [nan]\n",
      "iter=1540, theta_0=[nan], theta_1=[nan], cost= [nan]\n",
      "iter=1550, theta_0=[nan], theta_1=[nan], cost= [nan]\n",
      "iter=1560, theta_0=[nan], theta_1=[nan], cost= [nan]\n",
      "iter=1570, theta_0=[nan], theta_1=[nan], cost= [nan]\n",
      "iter=1580, theta_0=[nan], theta_1=[nan], cost= [nan]\n",
      "iter=1590, theta_0=[nan], theta_1=[nan], cost= [nan]\n",
      "iter=1600, theta_0=[nan], theta_1=[nan], cost= [nan]\n",
      "iter=1610, theta_0=[nan], theta_1=[nan], cost= [nan]\n",
      "iter=1620, theta_0=[nan], theta_1=[nan], cost= [nan]\n",
      "iter=1630, theta_0=[nan], theta_1=[nan], cost= [nan]\n",
      "iter=1640, theta_0=[nan], theta_1=[nan], cost= [nan]\n",
      "iter=1650, theta_0=[nan], theta_1=[nan], cost= [nan]\n",
      "iter=1660, theta_0=[nan], theta_1=[nan], cost= [nan]\n",
      "iter=1670, theta_0=[nan], theta_1=[nan], cost= [nan]\n",
      "iter=1680, theta_0=[nan], theta_1=[nan], cost= [nan]\n",
      "iter=1690, theta_0=[nan], theta_1=[nan], cost= [nan]\n",
      "iter=1700, theta_0=[nan], theta_1=[nan], cost= [nan]\n",
      "iter=1710, theta_0=[nan], theta_1=[nan], cost= [nan]\n",
      "iter=1720, theta_0=[nan], theta_1=[nan], cost= [nan]\n",
      "iter=1730, theta_0=[nan], theta_1=[nan], cost= [nan]\n",
      "iter=1740, theta_0=[nan], theta_1=[nan], cost= [nan]\n",
      "iter=1750, theta_0=[nan], theta_1=[nan], cost= [nan]\n",
      "iter=1760, theta_0=[nan], theta_1=[nan], cost= [nan]\n",
      "iter=1770, theta_0=[nan], theta_1=[nan], cost= [nan]\n",
      "iter=1780, theta_0=[nan], theta_1=[nan], cost= [nan]\n",
      "iter=1790, theta_0=[nan], theta_1=[nan], cost= [nan]\n",
      "iter=1800, theta_0=[nan], theta_1=[nan], cost= [nan]\n",
      "iter=1810, theta_0=[nan], theta_1=[nan], cost= [nan]\n",
      "iter=1820, theta_0=[nan], theta_1=[nan], cost= [nan]\n",
      "iter=1830, theta_0=[nan], theta_1=[nan], cost= [nan]\n",
      "iter=1840, theta_0=[nan], theta_1=[nan], cost= [nan]\n",
      "iter=1850, theta_0=[nan], theta_1=[nan], cost= [nan]\n",
      "iter=1860, theta_0=[nan], theta_1=[nan], cost= [nan]\n",
      "iter=1870, theta_0=[nan], theta_1=[nan], cost= [nan]\n",
      "iter=1880, theta_0=[nan], theta_1=[nan], cost= [nan]\n",
      "iter=1890, theta_0=[nan], theta_1=[nan], cost= [nan]\n",
      "iter=1900, theta_0=[nan], theta_1=[nan], cost= [nan]\n",
      "iter=1910, theta_0=[nan], theta_1=[nan], cost= [nan]\n",
      "iter=1920, theta_0=[nan], theta_1=[nan], cost= [nan]\n",
      "iter=1930, theta_0=[nan], theta_1=[nan], cost= [nan]\n",
      "iter=1940, theta_0=[nan], theta_1=[nan], cost= [nan]\n",
      "iter=1950, theta_0=[nan], theta_1=[nan], cost= [nan]\n",
      "iter=1960, theta_0=[nan], theta_1=[nan], cost= [nan]\n",
      "iter=1970, theta_0=[nan], theta_1=[nan], cost= [nan]\n",
      "iter=1980, theta_0=[nan], theta_1=[nan], cost= [nan]\n",
      "iter=1990, theta_0=[nan], theta_1=[nan], cost= [nan]\n"
     ]
    },
    {
     "name": "stderr",
     "output_type": "stream",
     "text": [
      "/Users/umutkizilirmak/opt/anaconda3/lib/python3.9/site-packages/numpy/core/_asarray.py:171: VisibleDeprecationWarning: Creating an ndarray from ragged nested sequences (which is a list-or-tuple of lists-or-tuples-or ndarrays with different lengths or shapes) is deprecated. If you meant to do this, you must specify 'dtype=object' when creating the ndarray.\n",
      "  return array(a, dtype, copy=False, order=order, subok=True)\n"
     ]
    },
    {
     "data": {
      "image/png": "[encoded data removed]",
      "text/plain": [
       "<Figure size 432x288 with 1 Axes>"
      ]
     },
     "metadata": {
      "needs_background": "light"
     },
     "output_type": "display_data"
    }
   ],
   "source": [
    "t0_history, t1_history, cost_history = training (X, y, theta_0, theta_1, 0.01, 2000)\n",
    "#Plot the cost function\n",
    "plt.title('Cost Function J')\n",
    "plt.xlabel('No. of iterations')\n",
    "plt.ylabel('Cost')\n",
    "plt.plot(cost_history)\n",
    "plt.ylim(ymin=0)\n",
    "plt.xlim(xmin=0)\n",
    "plt.show()"
   ]
  },
  {
   "cell_type": "code",
   "execution_count": null,
   "id": "4b54d9d3",
   "metadata": {},
   "outputs": [],
   "source": []
  }
 ],
 "metadata": {
  "kernelspec": {
   "display_name": "Python 3 (ipykernel)",
   "language": "python",
   "name": "python3"
  },
  "language_info": {
   "codemirror_mode": {
    "name": "ipython",
    "version": 3
   },
   "file_extension": ".py",
   "mimetype": "text/x-python",
   "name": "python",
   "nbconvert_exporter": "python",
   "pygments_lexer": "ipython3",
   "version": "3.9.7"
  }
 },
 "nbformat": 4,
 "nbformat_minor": 5
}
